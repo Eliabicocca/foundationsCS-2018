{
 "cells": [
  {
   "cell_type": "markdown",
   "metadata": {},
   "source": [
    "# Jupyter Notebook, Arrays, Lists, and Loops"
   ]
  },
  {
   "cell_type": "markdown",
   "metadata": {},
   "source": [
    "## Jupyter notebook usage\n",
    "\n",
    "Remember that you can see all the keyboard shortcut under `Help -> Keyboard Shortcut`.  Please try to memorize and use them as much as you can."
   ]
  },
  {
   "cell_type": "markdown",
   "metadata": {},
   "source": [
    "#### 1.1) Create a new code cell."
   ]
  },
  {
   "cell_type": "markdown",
   "metadata": {},
   "source": [
    "#### 1.2) Create a new Markdown cell write a sentence in it."
   ]
  },
  {
   "cell_type": "markdown",
   "metadata": {},
   "source": [
    "#### 1.3) Copy the previous, paste it after this one, and set the font face to bold."
   ]
  },
  {
   "cell_type": "markdown",
   "metadata": {},
   "source": [
    "#### 1.4) Delete the previous cell."
   ]
  },
  {
   "cell_type": "markdown",
   "metadata": {},
   "source": [
    "#### 1.5) Create a new code cell and write code to print 'Hello, world' (execute it!)."
   ]
  },
  {
   "cell_type": "markdown",
   "metadata": {},
   "source": [
    "## Lists, Loops, Arrays"
   ]
  },
  {
   "cell_type": "markdown",
   "metadata": {},
   "source": [
    "#### 2.1) Create a list named `sw_movies` and set its initial value to the sequence `[\"The Phantom Menace\", \"Attack of the Clones\", \"Revenge of the Sith\", \"A New Hope\", \"The Empire Strikes Back\", \"Return of the Jedi\", \"The Force Awakens\", \"The Last Jedi\"]`"
   ]
  },
  {
   "cell_type": "markdown",
   "metadata": {},
   "source": [
    "#### 2.2) Append `\"Unknown Title\"` to `sw_movies`."
   ]
  },
  {
   "cell_type": "markdown",
   "metadata": {},
   "source": [
    "#### 2.3) Access (and print) the 5th element of `sw_movies`."
   ]
  },
  {
   "cell_type": "markdown",
   "metadata": {},
   "source": [
    "#### 2.4) Access (and print) the element in position 5 of `sw_movies`."
   ]
  },
  {
   "cell_type": "markdown",
   "metadata": {},
   "source": [
    "#### 2.5) Print the 4th, 5th, and 6th elements of `sw_movies`"
   ]
  },
  {
   "cell_type": "markdown",
   "metadata": {},
   "source": [
    "#### 2.6) Delete the last element of the list using `pop()`.  Remember that you can access the documentation of any function using one of the following commands:\n",
    "\n",
    "```python\n",
    "sw_movies.pop?\n",
    "help(sw_movies.pop)\n",
    "```"
   ]
  },
  {
   "cell_type": "markdown",
   "metadata": {},
   "source": [
    "#### 2.7) Check the type of `sw_movies`."
   ]
  },
  {
   "cell_type": "markdown",
   "metadata": {},
   "source": [
    "#### 2.8) Check the type of the elements of `sw_movies`."
   ]
  },
  {
   "cell_type": "markdown",
   "metadata": {},
   "source": [
    "#### 2.9) Check the type of the elements of `sw_movies`, iterating over the elements of it using a loop."
   ]
  },
  {
   "cell_type": "markdown",
   "metadata": {},
   "source": [
    "#### 2.10) Print the elements of `sw_movies` alongside their episode number (\"The Phantom Menace\" is episode number 1, \"Attack of the Clones\" is episode number 2. etc. etc.).\n",
    "\n",
    "#### 2.10b) Use [`format`](https://docs.python.org/2/library/string.html#format-string-syntax) to pretty-print the list of episodes."
   ]
  },
  {
   "cell_type": "markdown",
   "metadata": {},
   "source": [
    "#### 2.11) Delete the first element of `sw_movies`."
   ]
  },
  {
   "cell_type": "markdown",
   "metadata": {},
   "source": [
    "#### 2.12) Put `\"The Panthom Menace\"` back in `sw_movies` (it's still canon after all...)."
   ]
  },
  {
   "cell_type": "markdown",
   "metadata": {},
   "source": [
    "# Dictionaries, Files, Functions, and Libraries"
   ]
  },
  {
   "cell_type": "markdown",
   "metadata": {},
   "source": [
    "## Dictionaries\n",
    "\n",
    "A dictionary is an unordered collection of zero or more key-value pairs.\n",
    "\n",
    "The most simple dictionary is the empty dictionary and can be instantiated using `{}`.\n",
    "Given a dictionary `d` you can access its fields using the following syntax `d[<field_name>]`.\n",
    "For example, if `d` has a `\"name\"` field you can access it using `d[\"name\"]` (both in read and write).\n",
    "It is also possible to create a dictionary with values in it using the `{ <key1> : <value1> , <key2> : <value2>, ...}` syntax.\n",
    "\n",
    "Dictionaries can be nested.  This means that\n",
    "```python\n",
    "{\n",
    " 'Cristiano' : {'age' : 33, 'role' : 'forward', 'goals' : 3},\n",
    " 'Giorgio' : {'age' : 35, 'role' : 'centre-back', 'goals' : 0},\n",
    " 'Blaise' : {'age' : 31, 'role' : 'midfielder', 'goals' : 2}\n",
    "}\n",
    "```\n",
    "is valid in Python.\n",
    "\n",
    "You can iterate over the keys of a dictionary using the `for` loop."
   ]
  },
  {
   "cell_type": "markdown",
   "metadata": {},
   "source": [
    "#### 3.1) Create a dictionary (`squares`) in which the keys are the numbers between 1 and 100 and the values are the square of the keys."
   ]
  },
  {
   "cell_type": "markdown",
   "metadata": {},
   "source": [
    "#### 3.2) Iterate over `squares` and print the `(key, value)` pair if and only if `key` is either a multiple of 3 or 5."
   ]
  },
  {
   "cell_type": "markdown",
   "metadata": {},
   "source": [
    "#### 3.3) Create a dictionary (`roots`) in which the keys are the numbers between 1 and 100 and the values are the square roots of the keys."
   ]
  },
  {
   "cell_type": "markdown",
   "metadata": {},
   "source": [
    "#### 3.4) Merge `squares` and `roots` and create a new dictionary (`squares_and_roots`) that maps each key to another dictionary with `'square'` and `'root'` as keys (`squares_and_roots[n]['square']` contains the square of `n` and `square_and_roots[n]['root']` contains the root of `n`)."
   ]
  },
  {
   "cell_type": "markdown",
   "metadata": {},
   "source": [
    "#### 3.5) For each key in `sqares_and_roots` print the key, the square, and the root on a single line."
   ]
  },
  {
   "cell_type": "markdown",
   "metadata": {},
   "source": [
    "## Files\n",
    "\n",
    "Files are objects you can *read* and *write* to.  There are 3 types of file objects (binary, buffered binary, and text) and we will focus mainly on [text files](https://docs.python.org/3/glossary.html#term-text-file).\n",
    "Text files are files objects that read and write `str` objects, that is sequences of characters.\n",
    "\n",
    "Before using a file you have to `open` a file handler using the `open` built-in function.\n",
    "Take a look at its documentation writing in a code cell one of the two following commands\n",
    "```python\n",
    "open?\n",
    "help(open)\n",
    "```"
   ]
  },
  {
   "cell_type": "code",
   "execution_count": null,
   "metadata": {
    "scrolled": true
   },
   "outputs": [],
   "source": [
    "help(open)"
   ]
  },
  {
   "cell_type": "markdown",
   "metadata": {},
   "source": [
    "Please read carefully the second paragraph of the documentation (the one that starts with `mode is an optional string [...]`.  Please familiarize with modes `'r'`, `'w'`, and `'a'`."
   ]
  },
  {
   "cell_type": "markdown",
   "metadata": {},
   "source": [
    "#### 4.1) Read the file `PromessiSposi.txt` and save its content in a list."
   ]
  },
  {
   "cell_type": "markdown",
   "metadata": {},
   "source": [
    "#### 4.2) Note that each element of the list ends with `\\n`.  What is that? "
   ]
  },
  {
   "cell_type": "markdown",
   "metadata": {},
   "source": [
    "#### 4.3) Re-read the file `PromessiSposi.txt` and use [`strip`](https://docs.python.org/2/library/string.html#string.strip) to remove the trailing character (store the lines in a list)."
   ]
  },
  {
   "cell_type": "markdown",
   "metadata": {},
   "source": [
    "#### 4.4) Create a dictionary `promised_words` that maps each distinct word in `PromessiSposi.txt` to the number of times it appears in it.  Use [`split`](https://docs.python.org/2/library/stdtypes.html#str.split)."
   ]
  },
  {
   "cell_type": "markdown",
   "metadata": {},
   "source": [
    "#### 4.5) Create a file 'words_occurrences.txt' and write each distinct word of 'PromessiSposi.txt' alongside the number of occurrences of such word."
   ]
  },
  {
   "cell_type": "markdown",
   "metadata": {},
   "source": [
    "## Libraries\n",
    "\n",
    "The [Python Standard Library](https://docs.python.org/3/library/) is a powerful help that provides many useful functionalities.\n",
    "Before using the functions of the Python Standard it is required to `import` the corresponding module.\n",
    "For example, if you want to use [`math.floor`](https://docs.python.org/3/library/math.html#math.floor) you'll have to import the `math` module before using it.\n",
    "\n",
    "There are (at least) three main ways to import functionalities from the Python Standard Library.\n",
    "\n",
    "1) Import the whole module\n",
    "```python\n",
    "import math\n",
    "math.floor(3/2)\n",
    "```\n",
    "2) Import the whole module and rename it\n",
    "```python\n",
    "import math as cool_stuff\n",
    "cool_stuff.floor(3/2)\n",
    "```\n",
    "\n",
    "3) Import all the functions of a module\n",
    "```python\n",
    "from math import *\n",
    "floor(3/2)\n",
    "```\n",
    "\n",
    "**Nevertheless, [it is usually NOT a good idea to `import *`](https://stackoverflow.com/questions/2386714/why-is-import-bad) so avoid using method 3.**"
   ]
  },
  {
   "cell_type": "markdown",
   "metadata": {},
   "source": [
    "#### 5.1) The [random modules](https://docs.python.org/3/library/random.html#module-random) implements pseudo-random number generators and provides functionalities to pick random elements from a sequence.  Use this module to select 3 Star Wars movies from `sw_movies` and print them. Hint: read the documentation of `random.sample`."
   ]
  },
  {
   "cell_type": "markdown",
   "metadata": {},
   "source": [
    "#### 5.2) Almost nobody likes \"The Phantom Menace\", pick 3 random Star Wars movies from `sw_movies` and store them in `my_favorite_sw_movies` until \"The Phantom Menace\" is not in `my_favorite_sw_movies`."
   ]
  },
  {
   "cell_type": "markdown",
   "metadata": {},
   "source": [
    "# Functions\n",
    "\n",
    "\"In the context of programming, a function is a named sequence of statements that performs a computation. When you define a function, you specify the name and the sequence of statements. Later, you can “call” the function by name\" (see [Think in Python - Chapter 3](http://greenteapress.com/thinkpython2/html/thinkpython2004.html)).\n",
    "\n",
    "Defining and writing functions if fundamental to avoid building complex (and bug-prone!) software.\n",
    "A function looks something like this\n",
    "```python\n",
    "def func_name(x, y=3):\n",
    "\t# Do whatever we want this function to do,\n",
    "\t#  using x and y.\n",
    "\n",
    "# Use func_name to call the function.\n",
    "func_name(value_1, value_2)\n",
    "\n",
    "# Use func_name to call the function, without setting y.\n",
    "# y will be equal to 3 (default value)\n",
    "func_name(value_1)\n",
    "\n",
    "```\n",
    "\n",
    "Remember that you have to define function **before** using them or your software will crash."
   ]
  },
  {
   "cell_type": "markdown",
   "metadata": {},
   "source": [
    "#### 6.1) Complete the function `my_split_with_counts` that accepts a string `s` and returns a dictionary whose keys are the unique words in `s` and whose values are the number of occurrences of the key in `s`."
   ]
  },
  {
   "cell_type": "code",
   "execution_count": 36,
   "metadata": {},
   "outputs": [],
   "source": [
    "def my_split_with_counts(sequence):\n",
    "    return"
   ]
  },
  {
   "cell_type": "markdown",
   "metadata": {},
   "source": [
    "#### 6.2) Write a function `random_sample_avoid_element` that accepts a list `L`, a number `k`, and an element `e`, and returns a list of `k` elements of `L` that does not contain `e`."
   ]
  },
  {
   "cell_type": "code",
   "execution_count": 37,
   "metadata": {},
   "outputs": [],
   "source": [
    "def random_sample_avoid_element(L, k, e):\n",
    "    return"
   ]
  },
  {
   "cell_type": "markdown",
   "metadata": {},
   "source": [
    "#### 6.3) Use `random_sample_avoid_element` to solve exercise 5.2"
   ]
  },
  {
   "cell_type": "markdown",
   "metadata": {},
   "source": [
    "#### 6.4) Implement the `square_root_is_odd` function that returns `True` if the square root of the argument is odd, or `False` otherwise."
   ]
  }
 ],
 "metadata": {
  "kernelspec": {
   "display_name": "Python 3",
   "language": "python",
   "name": "python3"
  },
  "language_info": {
   "codemirror_mode": {
    "name": "ipython",
    "version": 3
   },
   "file_extension": ".py",
   "mimetype": "text/x-python",
   "name": "python",
   "nbconvert_exporter": "python",
   "pygments_lexer": "ipython3",
   "version": "3.6.5"
  }
 },
 "nbformat": 4,
 "nbformat_minor": 2
}
