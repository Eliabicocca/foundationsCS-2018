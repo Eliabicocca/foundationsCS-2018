{
 "cells": [
  {
   "cell_type": "markdown",
   "metadata": {},
   "source": [
    "# Regular Expression\n",
    "\n",
    "![title](https://imgs.xkcd.com/comics/regular_expressions.png)\n",
    "\n",
    "A **regular expression** (RE) is a compact notation for representing a collection of strings.\n",
    "REs are defined using a mini-language different from Python and are used to search and substitute patterns and to parse, split, and validate strings.\n",
    "\n",
    "In Python, REs and REs functionalities are defined in the `re` module."
   ]
  },
  {
   "cell_type": "code",
   "execution_count": null,
   "metadata": {},
   "outputs": [],
   "source": [
    "import re"
   ]
  },
  {
   "cell_type": "markdown",
   "metadata": {},
   "source": [
    "The most common task with REs is to search a given pattern in a string.\n",
    "Let's start with searching a single character in a string."
   ]
  },
  {
   "cell_type": "code",
   "execution_count": null,
   "metadata": {},
   "outputs": [],
   "source": [
    "occurrence = re.search(pattern='uc', string='George Lucas')"
   ]
  },
  {
   "cell_type": "markdown",
   "metadata": {},
   "source": [
    "`re.search` returns a *Match* object."
   ]
  },
  {
   "cell_type": "code",
   "execution_count": null,
   "metadata": {},
   "outputs": [],
   "source": [
    "type(occurrence)"
   ]
  },
  {
   "cell_type": "markdown",
   "metadata": {},
   "source": [
    "The Match object evaluate to True if the pattern appears in the string, otherwise it is None."
   ]
  },
  {
   "cell_type": "code",
   "execution_count": null,
   "metadata": {},
   "outputs": [],
   "source": [
    "z_occurrence = re.search('z', 'George Lucas')\n",
    "\n",
    "if occurrence:\n",
    "    print(\"occurrence evalutates to True.\")\n",
    "else:\n",
    "    print(\"occurrence does not evaluate to True.\")\n",
    "    \n",
    "if z_occurrence:\n",
    "    print('z_occurrence evaluates to True:')\n",
    "else:\n",
    "    print('z_occurrence does not evaluate to True.')"
   ]
  },
  {
   "cell_type": "markdown",
   "metadata": {},
   "source": [
    "The match object can be queried to retrieve the information about the match occurrence."
   ]
  },
  {
   "cell_type": "code",
   "execution_count": null,
   "metadata": {},
   "outputs": [],
   "source": [
    "print(\"Pattern searched: {}\\nString Provided: {}\".format(occurrence.re.pattern,\n",
    "                                                         occurrence.string))\n",
    "print(\"Occurrence start: {}\\nOccurrence end: {}\\nMatch interval: {}\\nString: {}\".format(occurrence.start(),\n",
    "                                                                                        occurrence.end(),\n",
    "                                                                                        occurrence.span(),\n",
    "                                                                                        occurrence.group()))"
   ]
  },
  {
   "cell_type": "markdown",
   "metadata": {},
   "source": [
    "## Basics of the RE langage\n",
    "\n",
    "In a RE every character matches itself except for the following characters.\n",
    "\n",
    "| Character | Meaning |\n",
    "|:--- | :--- |\n",
    "| ^ | Beginning of line |\n",
    "| $ | End of line |\n",
    "| * | Match 0+ times the previous character in RE |\n",
    "| + | Match 1+ times the previous character in RE |\n",
    "| ? | Match 0 or 1 times the previous character in RE |\n",
    "\n",
    "It is possible to match any of the character in the previous table by \"escaping\" it using `\\`.  For example, `\\+` matches the character `+`.\n",
    "To group multiple characters just write them the correct sequence.\n",
    "\n",
    "Moreover, characters `[` and `]` are used to group together other characters in a character class.\n",
    "For example `[abcd]` means *\"any character between a, b, c and d\"*.\n",
    "`[abcd]` and `[a-d]` are the same character class.\n",
    "\n",
    "To match multiple patterns, group all the patterns between parentheses, and divide them using `|`.\n",
    "For example `(ab|ca|de)` matches `ab`, `ca`, and `de`.\n",
    "\n",
    "If `^` is inside a character class, it complements the elements inside the class.  This means that `[^a-d]` means *\"any character that is not a, b, c, nor d.\n",
    "\n",
    "For example, given the lyrics of this famous song"
   ]
  },
  {
   "cell_type": "code",
   "execution_count": null,
   "metadata": {},
   "outputs": [],
   "source": [
    "lyrics=\"\"\"La, la, la, la, la, la, la, la\n",
    "La, la, la, la, la, la, la, la\n",
    "La, la, la, la, la, la, la, la\n",
    "La, la, la, la, la, la, la, la\n",
    "I just can't get you out of my head\n",
    "Boy, your lovin' is all I think about\n",
    "I just can't get you out of my head\n",
    "Boy, its more than I dare to think about\n",
    "La, la, la, la, la, la, la, la\n",
    "La, la, la, la, la, la, la, la\n",
    "I just can't get you out of my head\n",
    "Boy, your lovin' is all I think about\n",
    "I just can't get you out of my head\n",
    "Boy, its more than I dare to think about\n",
    "Every night\n",
    "Every day\n",
    "Just to be there in your arms\n",
    "Won't you stay\n",
    "Won't you stay\n",
    "Stay forever and ever and ever ah ah\n",
    "La, la, la, la, la, la, la, la\n",
    "La, la, la, la, la, la, la, la\n",
    "La, la, la, la, la, la, la, la\n",
    "La, la, la, la, la, la, la, la\n",
    "I just can't get you out of my head\n",
    "Boy, your lovin' is all I think about\n",
    "I just can't get you out of my head\n",
    "Boy, its more than I dare to think about\n",
    "There's a dark secret in me\n",
    "Don't leave me lost in your arms\n",
    "Set me free\n",
    "Feel the need in me\n",
    "Set me free\n",
    "Stay forever and ever and ever ah ah\n",
    "La, la, la, la, la, la, la, la\n",
    "La, la, la, la, la, la, la, la\n",
    "La, la, la, la, la, la, la, la\n",
    "La, la, la, la, la, la, la, la\n",
    "I just can't get you out of my head (La, la, la La, la, la, la, la)\"\"\".split('\\n')"
   ]
  },
  {
   "cell_type": "markdown",
   "metadata": {},
   "source": [
    "If we want do something on all the verses but the chorus verses (\"La, la, la, la [...]\") we can use the following code snippets."
   ]
  },
  {
   "cell_type": "code",
   "execution_count": null,
   "metadata": {
    "scrolled": true
   },
   "outputs": [],
   "source": [
    "%%time\n",
    "\n",
    "def do_something(line):\n",
    "    # Do whatever, just print for now\n",
    "    print(line)\n",
    "    return line\n",
    "\n",
    "\n",
    "for line in lyrics:\n",
    "    occ = re.search('^(La, |la, )+la$', line)\n",
    "    if not occ:\n",
    "        do_something(line)"
   ]
  },
  {
   "cell_type": "code",
   "execution_count": null,
   "metadata": {
    "scrolled": true
   },
   "outputs": [],
   "source": [
    "%%time\n",
    "for line in lyrics:\n",
    "    occ = re.search('^([Ll]a, )+la$', line)\n",
    "    if not occ:\n",
    "        do_something(line)"
   ]
  },
  {
   "cell_type": "markdown",
   "metadata": {},
   "source": [
    "## Character Class Shorthands\n",
    "\n",
    "Python also defines some metacharacters for common character classes.\n",
    "\n",
    "| Character | Meaning |\n",
    "|:--- | :--- |\n",
    "| `.` | Any character |\n",
    "| `\\d` | Any digit, equivalent to `[0-9]` |\n",
    "| `\\D` | Any nondigit, equivalent to `[^0-9] |\n",
    "| `\\s` | Any whitespace (`\\t`, `\\n`, ...) |\n",
    "| `\\S` | Any nonwhitespace |\n",
    "| `\\w` | Any word character, equivalent to `[a-zA-Z0-9_]` |\n",
    "| `\\W` | Any nonword character |\n",
    "\n",
    "## Quantifiers\n",
    "\n",
    "A quantifier appears after an expression of a RE and has the form `{m, n}` where `m` and `n` are the minimum and maximum times the expression the quantifier applies to must match.\n",
    "\n",
    "For example\n",
    "```python\n",
    "re.search('(bla){2,100}', 'blablabla')\n",
    "```\n",
    "will return a match whereas\n",
    "```python\n",
    "re.search('(bla){4,100}', 'blablabla')\n",
    "```\n",
    "won't."
   ]
  },
  {
   "cell_type": "code",
   "execution_count": null,
   "metadata": {},
   "outputs": [],
   "source": [
    "m = re.search('(bla){2,100}', 'blablabla')\n",
    "print(m)"
   ]
  },
  {
   "cell_type": "code",
   "execution_count": null,
   "metadata": {},
   "outputs": [],
   "source": [
    "m = re.search('(bla){4,100}', 'blablabla')\n",
    "print(m)"
   ]
  },
  {
   "cell_type": "markdown",
   "metadata": {},
   "source": [
    "## Compiling REs\n",
    "\n",
    "Usually REs are applied over and over.\n",
    "To speed up the processing it is possible to *compile* the regular expression into a compiled regex object and use it as many times as we like.\n",
    "For example, we can rewrite one of the previous examples as follows."
   ]
  },
  {
   "cell_type": "code",
   "execution_count": null,
   "metadata": {
    "scrolled": true
   },
   "outputs": [],
   "source": [
    "%%time\n",
    "la_re = re.compile('^(La, |la, )+la$')\n",
    "for line in lyrics:\n",
    "    occ = la_re.search(line)\n",
    "    if not occ:\n",
    "        do_something(line)"
   ]
  },
  {
   "cell_type": "markdown",
   "metadata": {},
   "source": [
    "## Compilation flags\n",
    "\n",
    "Compilation flags let you modify some aspects of how REs work and are passed as arguments to the `re.compile` function.\n",
    "The most important compilation flag for us will be `re.IGNORECASE` (also `re.I`) that enables to match RE in a case insensitive fashion.\n",
    "This means that a lowercase and uppercase character will be treated as the same element (i.e., there will be no distinction between `a` and `A`).\n",
    "For a more in-depth analysis of compilation flags please refer to the [documentation](https://docs.python.org/3.6/howto/regex.html#compilation-flags)."
   ]
  },
  {
   "cell_type": "code",
   "execution_count": null,
   "metadata": {
    "scrolled": true
   },
   "outputs": [],
   "source": [
    "%%time\n",
    "la_re = re.compile('^(la, )+la$', re.IGNORECASE)\n",
    "for line in lyrics:\n",
    "    occ = la_re.search(line)\n",
    "    if not occ:\n",
    "        do_something(line)"
   ]
  },
  {
   "cell_type": "markdown",
   "metadata": {},
   "source": [
    "# RE functions\n",
    "\n",
    "For now we only used the `re.search` function but there are many more.\n",
    "The following table summarizes the most important functions.\n",
    "\n",
    "| Function | Description |\n",
    "|:--- |:--- |\n",
    "| [`re.findall(string)`](https://docs.python.org/3/library/re.html#re.Pattern.findall) | Returns all nonoverlapping matches of the RE |\n",
    "| [`re.match(string)`](https://docs.python.org/3/library/re.html#re.Pattern.match) | Returns a match object if the RE matches *at the start* of the string |\n",
    "| [`re.search(string)`](https://docs.python.org/3/library/re.html#re.Pattern.search) | Returns a match object if the RE matches anywhere in the string |\n",
    "| [`re.split(string)`](https://docs.python.org/3/library/re.html#re.Pattern.split) | Returns the list of strings that results from splitting string s on every occurrence of the RE |\n",
    "| [`re.sub(repl, string)`](https://docs.python.org/3/library/re.html#re.Pattern.sub) | Returns a coput of the string with every match of the RE replaced by `repl` |"
   ]
  },
  {
   "cell_type": "markdown",
   "metadata": {},
   "source": [
    "## Grouping\n",
    "\n",
    "Frequently you need to obtain more information than just whether the RE matched or not. Regular expressions are often used to dissect strings by writing a RE divided into several subgroups which match different components of interest [(see this linki)](https://docs.python.org/3/howto/regex.html#grouping).\n",
    "You can access the groups by using the `group()` method of the match.\n",
    "\n",
    "For example"
   ]
  },
  {
   "cell_type": "code",
   "execution_count": null,
   "metadata": {},
   "outputs": [],
   "source": [
    "name_surname_re = re.compile(\"^(\\d+)\\s+(\\w+)\\s+(\\w+)$\", re.IGNORECASE)\n",
    "\n",
    "m = name_surname_re.search(\"3          Giorgio   Chiellini\")\n",
    "print(\"Whole match:  \", m.group())\n",
    "print(\"Name:         \", m.group(2))\n",
    "print(\"Surname:      \", m.group(3))\n",
    "\n",
    "m = name_surname_re.search(\"14 Blaise                        Matuidi\")\n",
    "print(\"Whole match:  \", m.group())\n",
    "print(\"Shirt number: \", m.group(1))\n",
    "print(\"Surname:      \", m.group(3))"
   ]
  },
  {
   "cell_type": "markdown",
   "metadata": {},
   "source": [
    "## Named groups\n",
    "\n",
    "Accessing groups by their position in the match is most of the times tedious.\n",
    "Python introduces **named group** to refer to each group using a key.\n",
    "The sytax for a named group is `(?P<key><expression>)` were `<key>` is the key used and `<expression>` is the RE searched."
   ]
  },
  {
   "cell_type": "code",
   "execution_count": null,
   "metadata": {},
   "outputs": [],
   "source": [
    "ns_named_re = re.compile(\"^(?P<shirtnumber>\\d+)\\s+(?P<name>\\w+)\\s+(?P<surname>\\w+)$\")\n",
    "\n",
    "m = ns_named_re.search(\"3 Giorgio            Chiellini\")\n",
    "print(\"Whole match:  \", m.group())\n",
    "print(\"Name:         \", m.group(\"name\"))\n",
    "print(\"Surname:      \", m.group(\"surname\"))\n",
    "\n",
    "m = ns_named_re.search(\"14 Blaise                        Matuidi\")\n",
    "print(\"Whole match:  \", m.group())\n",
    "print(\"Shirt number: \", m.group(\"shirtnumber\"))\n",
    "print(\"Surname:      \", m.group(\"surname\"))"
   ]
  },
  {
   "cell_type": "markdown",
   "metadata": {},
   "source": [
    "# Exercises\n",
    "\n",
    "\n"
   ]
  },
  {
   "cell_type": "markdown",
   "metadata": {},
   "source": [
    "**1)** The file `ex-data/numbers.txt` contains 10000 lines.  Each line contains either a number or a string, find how many even number are in the file."
   ]
  },
  {
   "cell_type": "markdown",
   "metadata": {},
   "source": [
    "**2)** The file `ex-data/email.txt` contains 80000 lines.\n",
    "Each line starts might start with some whitespaces (>=0), is followed by an email address, a number (>0) of spaces, and an age.\n",
    "Each email address is composed as follows:\n",
    "* a name\n",
    "* a separation character (either `.`, `_`, or `!`)\n",
    "* a surname\n",
    "* an optional integer number\n",
    "* a @ symbol\n",
    "* a domain\n",
    "\n",
    "Using REs and the concepts from the last lesson, find how many times each domain was used.\n",
    "\n",
    "Examples of possible lines in the file:\n",
    "```\n",
    "     riva!menist57@bofthew.com   70\n",
    "         Brittan_Knorr69@tyldd.com            42\n",
    "         Cammy_Shawcroft@antichef.net           28\n",
    "Lizzie!woolford@dispostable.com 75\n",
    "Lurette_beachel@fakeinbox.com           48\n",
    "      moria.ivery54@twinmail.de          64\n",
    "          luciana.Leclaire48@gowikibooks.com       50\n",
    "```__"
   ]
  },
  {
   "cell_type": "markdown",
   "metadata": {},
   "source": [
    "**3)** The file `ex-data/exp_nums.txt` contains 100 lines.  Each line contains a number in [E-notation](https://en.wikipedia.org/wiki/Scientific_notation#E-notation).  Convert each number to its decimal representation."
   ]
  }
 ],
 "metadata": {
  "kernelspec": {
   "display_name": "Python 3",
   "language": "python",
   "name": "python3"
  },
  "language_info": {
   "codemirror_mode": {
    "name": "ipython",
    "version": 3
   },
   "file_extension": ".py",
   "mimetype": "text/x-python",
   "name": "python",
   "nbconvert_exporter": "python",
   "pygments_lexer": "ipython3",
   "version": "3.6.5"
  }
 },
 "nbformat": 4,
 "nbformat_minor": 2
}
